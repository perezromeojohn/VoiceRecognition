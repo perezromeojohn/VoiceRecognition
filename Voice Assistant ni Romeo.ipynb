{
 "cells": [
  {
   "cell_type": "code",
   "execution_count": null,
   "id": "3021a5e4",
   "metadata": {},
   "outputs": [],
   "source": [
    "!pip install pyttsx3\n",
    "!pip install SpeechRecognition\n",
    "!pip install pywhatkit\n",
    "!pip install pyjokes\n",
    "!pip install yfinance"
   ]
  },
  {
   "cell_type": "code",
   "execution_count": null,
   "id": "2b348fac",
   "metadata": {},
   "outputs": [],
   "source": [
    "!pip install pipwin\n",
    "!pipwin install pyaudio"
   ]
  },
  {
   "cell_type": "code",
   "execution_count": 1,
   "id": "7b5198b0",
   "metadata": {},
   "outputs": [],
   "source": [
    "import pyttsx3\n",
    "import speech_recognition as sr\n",
    "import datetime\n",
    "import os\n",
    "import webbrowser\n",
    "import pywhatkit\n",
    "import yfinance as yf\n",
    "import pyjokes"
   ]
  },
  {
   "cell_type": "code",
   "execution_count": 2,
   "id": "a3f7b8d2",
   "metadata": {},
   "outputs": [],
   "source": [
    "#translation ng fucking speech into text\n",
    "\n",
    "def transform():\n",
    "    r = sr.Recognizer()\n",
    "    with sr.Microphone() as source:\n",
    "        r.pause_threshold = 0.8\n",
    "        said = r.listen(source)\n",
    "        try:\n",
    "            print('I am listening')\n",
    "            q = r.recognize_google(said, language=\"en\")\n",
    "            return q\n",
    "        except sr.UnknownValueError:\n",
    "            print('I do not understand shit')\n",
    "            return \"I am waiting\"\n",
    "        except sr.RequestError:\n",
    "            print('Sorry but the fucking service is down')\n",
    "            return 'I am waiting'\n",
    "        except:\n",
    "            return 'I am waiting'"
   ]
  },
  {
   "cell_type": "code",
   "execution_count": 31,
   "id": "ba8b62ac",
   "metadata": {},
   "outputs": [
    {
     "name": "stdout",
     "output_type": "stream",
     "text": [
      "I am listening\n"
     ]
    },
    {
     "data": {
      "text/plain": [
       "'Pahingi naman ang pepe'"
      ]
     },
     "execution_count": 31,
     "metadata": {},
     "output_type": "execute_result"
    }
   ],
   "source": [
    "transform()"
   ]
  },
  {
   "cell_type": "code",
   "execution_count": 3,
   "id": "f92d673b",
   "metadata": {},
   "outputs": [],
   "source": [
    "#Voice Assistant Talks\n",
    "\n",
    "import pyttsx3\n",
    "\n",
    "def speaking(message):\n",
    "    engine = pyttsx3.init()\n",
    "    engine.say(message)\n",
    "    engine.runAndWait()"
   ]
  },
  {
   "cell_type": "code",
   "execution_count": 4,
   "id": "9e4b7666",
   "metadata": {},
   "outputs": [],
   "source": [
    "speaking('Hello, its, me, your, boy, romeo')"
   ]
  },
  {
   "cell_type": "code",
   "execution_count": 5,
   "id": "a5226223",
   "metadata": {},
   "outputs": [
    {
     "name": "stdout",
     "output_type": "stream",
     "text": [
      "<Voice id=HKEY_LOCAL_MACHINE\\SOFTWARE\\Microsoft\\Speech\\Voices\\Tokens\\TTS_MS_EN-US_DAVID_11.0\n",
      "          name=Microsoft David Desktop - English (United States)\n",
      "          languages=[]\n",
      "          gender=None\n",
      "          age=None>\n",
      "<Voice id=HKEY_LOCAL_MACHINE\\SOFTWARE\\Microsoft\\Speech\\Voices\\Tokens\\TTS_MS_EN-GB_HAZEL_11.0\n",
      "          name=Microsoft Hazel Desktop - English (Great Britain)\n",
      "          languages=[]\n",
      "          gender=None\n",
      "          age=None>\n",
      "<Voice id=HKEY_LOCAL_MACHINE\\SOFTWARE\\Microsoft\\Speech\\Voices\\Tokens\\TTS_MS_EN-US_ZIRA_11.0\n",
      "          name=Microsoft Zira Desktop - English (United States)\n",
      "          languages=[]\n",
      "          gender=None\n",
      "          age=None>\n"
     ]
    }
   ],
   "source": [
    "engine = pyttsx3.init()\n",
    "for voice in engine.getProperty('voices'):\n",
    "    print(voice)"
   ]
  },
  {
   "cell_type": "code",
   "execution_count": 6,
   "id": "5fa94cb6",
   "metadata": {},
   "outputs": [],
   "source": [
    "#replace voice assistant tone\n",
    "id = 'HKEY_LOCAL_MACHINE\\SOFTWARE\\Microsoft\\Speech\\Voices\\Tokens\\TTS_MS_EN-US_DAVID_11.0'\n",
    "engine.setProperty('voice',id)\n",
    "engine.say('Hello, its, me, yo, boy, romeo, the, great')\n",
    "engine.runAndWait()"
   ]
  },
  {
   "cell_type": "code",
   "execution_count": 7,
   "id": "aa9b4629",
   "metadata": {},
   "outputs": [],
   "source": [
    "#return the weekday name\n",
    "import datetime\n",
    "\n",
    "def query_day():\n",
    "    day = datetime.date.today()\n",
    "    #print(day)\n",
    "    weekday = day.weekday()\n",
    "    #print(weekday)\n",
    "    mapping = {\n",
    "        0:'Monday',1:'Tueday',2:'Wednesday',3:'Thursday',4:'Friday',5:'Saturday',6:'Sunday'\n",
    "    }\n",
    "    try:\n",
    "        speaking(f'My liege, today is {mapping[weekday]}')\n",
    "    except:\n",
    "        pass"
   ]
  },
  {
   "cell_type": "code",
   "execution_count": 10,
   "id": "4fdb924b",
   "metadata": {},
   "outputs": [],
   "source": [
    "query_day()"
   ]
  },
  {
   "cell_type": "code",
   "execution_count": 8,
   "id": "12339ed7",
   "metadata": {},
   "outputs": [],
   "source": [
    "#return the time\n",
    "\n",
    "def query_time():\n",
    "    time = datetime.datetime.now().strftime(\"%I:%M:%S\")\n",
    "    speaking(f\"My liege, it is{time[1]} o'Clock and {time[3:5]} minutes\")"
   ]
  },
  {
   "cell_type": "code",
   "execution_count": 19,
   "id": "98b35c77",
   "metadata": {},
   "outputs": [],
   "source": [
    "query_time()"
   ]
  },
  {
   "cell_type": "code",
   "execution_count": 12,
   "id": "324813f3",
   "metadata": {},
   "outputs": [],
   "source": [
    "#intro greeting of my voice assistant\n",
    "def greetings():\n",
    "    speaking('''Hi, my name is Mark Daniel Roldan. I am your personal voice assistant.\n",
    "    How may I help you\n",
    "    ''')"
   ]
  },
  {
   "cell_type": "code",
   "execution_count": 13,
   "id": "d964491b",
   "metadata": {},
   "outputs": [],
   "source": [
    "greetings()"
   ]
  },
  {
   "cell_type": "code",
   "execution_count": 16,
   "id": "e89346f9",
   "metadata": {},
   "outputs": [],
   "source": [
    "#the core of our VA, takes quesries and returns answers\n",
    "def querying():\n",
    "    greetings()\n",
    "    start = True\n",
    "    while(start):\n",
    "        q = transform().lower()\n",
    "        \n",
    "        if 'mark open youtube' in q:\n",
    "            speaking('starting youtube for you. my liege.')\n",
    "            webbrowser.open('https://www.youtube.com')\n",
    "            continue\n",
    "            \n",
    "        elif 'start webbrowser' in q:\n",
    "            speaking('starting web browser. my liege')\n",
    "            webbrowser.open('https://www.google.com')\n",
    "            continue\n",
    "        \n",
    "        elif 'what day is it' in q:\n",
    "            query_day()\n",
    "            continue\n",
    "            \n",
    "        elif 'what time is it' in q:\n",
    "            query_time()\n",
    "            continue\n",
    "            \n",
    "        elif 'tell me about yourself' in q:\n",
    "            speaking('Hello, my name is mark and magaling ako mag cook ng adobo')\n",
    "        \n",
    "        elif 'goodbye' in q:\n",
    "            speaking('shutting down, my liege.')\n",
    "            break\n",
    "            \n",
    "            "
   ]
  },
  {
   "cell_type": "code",
   "execution_count": 17,
   "id": "a4204d4f",
   "metadata": {},
   "outputs": [
    {
     "name": "stdout",
     "output_type": "stream",
     "text": [
      "I am listening\n",
      "I am listening\n"
     ]
    }
   ],
   "source": [
    "querying()"
   ]
  },
  {
   "cell_type": "code",
   "execution_count": null,
   "id": "3bbf53cf",
   "metadata": {},
   "outputs": [],
   "source": []
  },
  {
   "cell_type": "code",
   "execution_count": null,
   "id": "c836de83",
   "metadata": {},
   "outputs": [],
   "source": []
  }
 ],
 "metadata": {
  "kernelspec": {
   "display_name": "Python 3 (ipykernel)",
   "language": "python",
   "name": "python3"
  },
  "language_info": {
   "codemirror_mode": {
    "name": "ipython",
    "version": 3
   },
   "file_extension": ".py",
   "mimetype": "text/x-python",
   "name": "python",
   "nbconvert_exporter": "python",
   "pygments_lexer": "ipython3",
   "version": "3.9.5"
  }
 },
 "nbformat": 4,
 "nbformat_minor": 5
}
